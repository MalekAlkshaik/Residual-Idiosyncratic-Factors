{
 "cells": [
  {
   "cell_type": "code",
   "execution_count": 1,
   "metadata": {},
   "outputs": [],
   "source": [
    "import pandas as pd\n",
    "import MalekFinance as mf\n",
    "import datetime as dt\n",
    "from pandas.tseries.offsets import MonthEnd\n",
    "from tqdm.notebook import tqdm\n",
    "import numpy as np\n",
    "import statsmodels.api as sm\n",
    "from matplotlib import pyplot as plt\n",
    "from sklearn.decomposition import PCA\n",
    "pd.set_option('display.float_format', '{:.4f}'.format)"
   ]
  },
  {
   "cell_type": "code",
   "execution_count": 2,
   "metadata": {},
   "outputs": [],
   "source": [
    "monthly_returns = mf.read('WRDS Data','All Exchanges CRSP PEMRMNO Monthly Returns DataFrame 63-22',index_col=0,parse_dates=True)\n",
    "Returns_Check_NYSE_df = mf.read('WRDS Data','NYSE Monthly Returns',index_col=0,parse_dates=True)\n",
    "monthly_size = mf.read('WRDS Data','All Exchanges CRSP PEMRMNO Monthly Size DataFrame 63-22',index_col=0,parse_dates=True)\n",
    "NYSE_Size_df = monthly_size[monthly_size.columns.intersection(Returns_Check_NYSE_df.columns)]\n",
    "Two_Year_Data_Check = monthly_returns.rolling(24,min_periods=24).std()*(12**0.5)\n",
    "NYSE_Two_Year_Data_Check = Two_Year_Data_Check[Two_Year_Data_Check.columns.intersection(Returns_Check_NYSE_df.columns)]\n",
    "past_11 = mf.past_x(monthly_returns,11)\n",
    "NYSE_Past_11_df = mf.past_x(Returns_Check_NYSE_df,11)\n",
    "formation_dates = pd.date_range('1970-12-31','2022-11-30',freq='M')\n",
    "returns_dates = pd.date_range('1971-1-31','2022-12-31',freq='M')\n",
    "formation_dates1 = pd.date_range(start='1970-12-31', end='2022-11-30', freq='2Q')\n",
    "past_48 = mf.past_x(monthly_returns,48)\n",
    "NYSE_past_48 = mf.past_x(Returns_Check_NYSE_df,48)\n",
    "def compute_weights(df_):\n",
    "    return df_['Market Cap'] / df_['Market Cap'].sum()"
   ]
  },
  {
   "cell_type": "markdown",
   "metadata": {},
   "source": [
    "# Long Term Reversal"
   ]
  },
  {
   "cell_type": "code",
   "execution_count": 3,
   "metadata": {},
   "outputs": [
    {
     "data": {
      "application/vnd.jupyter.widget-view+json": {
       "model_id": "84935b6c3b2443a8815641d710b3584b",
       "version_major": 2,
       "version_minor": 0
      },
      "text/plain": [
       "  0%|          | 0/104 [00:00<?, ?it/s]"
      ]
     },
     "metadata": {},
     "output_type": "display_data"
    }
   ],
   "source": [
    "def LTRF(formation, holding):\n",
    "    NYSE_Size = NYSE_Size_df.loc[formation].dropna()\n",
    "    NYSE_Past_48 = NYSE_past_48.loc[formation - MonthEnd(12)].dropna()\n",
    "    Returns_Check_NYSE = Returns_Check_NYSE_df.loc[formation + MonthEnd(1)].dropna()\n",
    "    NYSE_Merged = pd.concat([Returns_Check_NYSE,NYSE_Past_48,NYSE_Size],axis=1).dropna()\n",
    "    NYSE_Merged.columns = ['1 Month Forward Return','Past 48','Market Cap']\n",
    "    Long_Threshold = NYSE_Merged['Past 48'].quantile(0.3)\n",
    "    Short_Threshold = NYSE_Merged['Past 48'].quantile(0.7)\n",
    "    Size_Breakpoint = NYSE_Merged['Market Cap'].median()\n",
    "    All_Size = monthly_size.loc[formation ].dropna()\n",
    "    All_Past_48 = past_48.loc[formation - MonthEnd(12)].dropna()\n",
    "    All_Returns = monthly_returns.loc[formation + MonthEnd(1)].dropna()\n",
    "    All_Merged = pd.concat([All_Returns,All_Past_48,All_Size],axis=1).dropna()\n",
    "    All_Merged.columns = ['1 Month Forward Return','Past 48','Market Cap']\n",
    "    Large = All_Merged[All_Merged['Market Cap'] >= Size_Breakpoint]\n",
    "    Small = All_Merged[All_Merged['Market Cap'] <= Size_Breakpoint]\n",
    "    Large_Long = Large[Large['Past 48'] <= Long_Threshold]\n",
    "    Large_Short = Large[Large['Past 48'] >= Short_Threshold]\n",
    "    Small_Long = Small[Small['Past 48'] <= Long_Threshold]\n",
    "    Small_Short = Small[Small['Past 48'] >= Short_Threshold]\n",
    "    Large_Long_weights  = compute_weights(Large_Long)\n",
    "    Large_Short_weights = compute_weights(Large_Short)\n",
    "    Small_Long_weights  = compute_weights(Small_Long)\n",
    "    Small_Short_weights = compute_weights(Small_Short)\n",
    "    Portfolio_Return = []\n",
    "    for m in range(1, holding + 1):\n",
    "        date_m = formation + MonthEnd(m)\n",
    "        large_long_ret  = monthly_returns.loc[date_m, Large_Long.index].mul(Large_Long_weights, fill_value=0).sum()\n",
    "        large_short_ret = monthly_returns.loc[date_m, Large_Short.index].mul(Large_Short_weights, fill_value=0).sum()\n",
    "        small_long_ret  = monthly_returns.loc[date_m, Small_Long.index].mul(Small_Long_weights, fill_value=0).sum()\n",
    "        small_short_ret = monthly_returns.loc[date_m, Small_Short.index].mul(Small_Short_weights, fill_value=0).sum()\n",
    "        portfolio_ret = ((large_long_ret + small_long_ret) - (large_short_ret + small_short_ret)) / 2.0\n",
    "        Portfolio_Return.append(portfolio_ret)\n",
    "    return Portfolio_Return\n",
    "\n",
    "LTR = pd.DataFrame(data={'Long-Term Reversal': np.concatenate([LTRF(i,6) for i in tqdm(formation_dates1)])}, index=returns_dates)"
   ]
  },
  {
   "cell_type": "code",
   "execution_count": 4,
   "metadata": {},
   "outputs": [
    {
     "data": {
      "application/vnd.jupyter.widget-view+json": {
       "model_id": "af4bb668a377447d9c5ad11eeab1e829",
       "version_major": 2,
       "version_minor": 0
      },
      "text/plain": [
       "  0%|          | 0/104 [00:00<?, ?it/s]"
      ]
     },
     "metadata": {},
     "output_type": "display_data"
    }
   ],
   "source": [
    "def LT_Residual_Reversal_PCA(formation, holding):\n",
    "    NYSE_Size = NYSE_Size_df.loc[formation].dropna()\n",
    "    Returns_Check_NYSE = Returns_Check_NYSE_df.loc[formation + MonthEnd(1)].dropna()\n",
    "    NYSE_Past_48 = NYSE_past_48.loc[formation - MonthEnd(12)].dropna()\n",
    "    NYSE_Merged = pd.concat([Returns_Check_NYSE, NYSE_Size, NYSE_Past_48], axis=1).dropna()\n",
    "    NYSE_Merged.columns = ['1 Month Forward Return','Market Cap','Past 48']\n",
    "    Size_Breakpoint = NYSE_Merged['Market Cap'].median()\n",
    "    All_Size = monthly_size.loc[formation].dropna()\n",
    "    All_Returns = monthly_returns.loc[formation + MonthEnd(1)].dropna()\n",
    "    All_Past_48 = past_48.loc[formation - MonthEnd(12)].dropna()\n",
    "    All_Merged = pd.concat([All_Returns, All_Size, All_Past_48], axis=1).dropna()\n",
    "    All_Merged.columns = ['1 Month Forward Return','Market Cap','Past 48'] \n",
    "    df = monthly_returns.loc[formation - MonthEnd(59) : formation,  monthly_returns.columns.intersection(All_Merged.index)].fillna(0)\n",
    "    pca_transformed = PCA(n_components=5, random_state=0).fit_transform(df)\n",
    "    APM = mf.Equal_Vol(pd.DataFrame(pca_transformed, index=df.index), 0.15)\n",
    "    x = sm.add_constant(APM)\n",
    "    resids = mf.residuals(df, x)\n",
    "    residual_slice = resids.loc[formation - MonthEnd(59) : formation - MonthEnd(12)]\n",
    "    Past_LTR_Residual = mf.past_x(residual_slice, 48).loc[formation - MonthEnd(12)]\n",
    "    All_Merged = All_Merged.merge(Past_LTR_Residual, left_index=True, right_index=True, how='inner')\n",
    "    All_Merged.rename(columns={All_Merged.columns[3]: 'Residual Past 48 Month'}, inplace=True)\n",
    "    NYSE_Merged = NYSE_Merged.merge(Past_LTR_Residual, left_index=True, right_index=True, how='inner').dropna()\n",
    "    NYSE_Merged.rename(columns={NYSE_Merged.columns[3]: 'Residual Past 48 Month'}, inplace=True)\n",
    "    Long_Threshold = NYSE_Merged['Residual Past 48 Month'].quantile(0.3)\n",
    "    Short_Threshold = NYSE_Merged['Residual Past 48 Month'].quantile(0.7)\n",
    "    Large = All_Merged[All_Merged['Market Cap'] >= Size_Breakpoint]\n",
    "    Small = All_Merged[All_Merged['Market Cap'] <=  Size_Breakpoint]\n",
    "    Large_Long  = Large[Large['Residual Past 48 Month'] <= Long_Threshold]\n",
    "    Large_Short = Large[Large['Residual Past 48 Month'] >= Short_Threshold]\n",
    "    Small_Long  = Small[Small['Residual Past 48 Month'] <= Long_Threshold]\n",
    "    Small_Short = Small[Small['Residual Past 48 Month'] >= Short_Threshold]\n",
    "    Large_Long_weights  = compute_weights(Large_Long)\n",
    "    Large_Short_weights = compute_weights(Large_Short)\n",
    "    Small_Long_weights  = compute_weights(Small_Long)\n",
    "    Small_Short_weights = compute_weights(Small_Short)\n",
    "    Portfolio_Return = []\n",
    "    for m in range(1, holding + 1):\n",
    "        date_m = formation + MonthEnd(m)\n",
    "        large_long_ret  = monthly_returns.loc[date_m, Large_Long.index].mul(Large_Long_weights, fill_value=0).sum()\n",
    "        large_short_ret = monthly_returns.loc[date_m, Large_Short.index].mul(Large_Short_weights, fill_value=0).sum()\n",
    "        small_long_ret  = monthly_returns.loc[date_m, Small_Long.index].mul(Small_Long_weights, fill_value=0).sum()\n",
    "        small_short_ret = monthly_returns.loc[date_m, Small_Short.index].mul(Small_Short_weights, fill_value=0).sum()\n",
    "        portfolio_ret = ((large_long_ret + small_long_ret) - (large_short_ret + small_short_ret)) / 2.0\n",
    "        Portfolio_Return.append(portfolio_ret)\n",
    "    return Portfolio_Return\n",
    "\n",
    "Res_LTREV_PCA = pd.DataFrame(data={'Residual Long-Term Reversal PCA': np.concatenate([LT_Residual_Reversal_PCA(i,6) for i in tqdm(formation_dates1)])}, index=returns_dates)"
   ]
  },
  {
   "cell_type": "markdown",
   "metadata": {},
   "source": [
    "# Short Term Reversal"
   ]
  },
  {
   "cell_type": "code",
   "execution_count": 5,
   "metadata": {},
   "outputs": [
    {
     "data": {
      "application/vnd.jupyter.widget-view+json": {
       "model_id": "e5dff88eab304b0badacbf77ef6d42a3",
       "version_major": 2,
       "version_minor": 0
      },
      "text/plain": [
       "  0%|          | 0/624 [00:00<?, ?it/s]"
      ]
     },
     "metadata": {},
     "output_type": "display_data"
    }
   ],
   "source": [
    "def STRF(formation):\n",
    "    NYSE_Size = NYSE_Size_df.loc[formation].dropna()\n",
    "    NYSE_Past_1 = Returns_Check_NYSE_df.loc[formation].dropna()\n",
    "    Returns_Check_NYSE = Returns_Check_NYSE_df.loc[formation + MonthEnd(1)].dropna()\n",
    "    NYSE_Merged = pd.concat([Returns_Check_NYSE,NYSE_Past_1,NYSE_Size],axis=1).dropna()\n",
    "    NYSE_Merged.columns = ['1 Month Forward Return','Past 1','Market Cap']\n",
    "    Winners_Threshold = NYSE_Merged['Past 1'].quantile(0.3)\n",
    "    Losers_Threshold = NYSE_Merged['Past 1'].quantile(0.7)\n",
    "    Size_Breakpoint = NYSE_Merged['Market Cap'].median()\n",
    "    All_Size = monthly_size.loc[formation].dropna()\n",
    "    All_Past_1 = monthly_returns.loc[formation].dropna()\n",
    "    All_Returns = monthly_returns.loc[formation + MonthEnd(1)].dropna()\n",
    "    All_Merged = pd.concat([All_Returns,All_Past_1,All_Size],axis=1).dropna()\n",
    "    All_Merged.columns = ['1 Month Forward Return','Past 1','Market Cap']\n",
    "    Large = All_Merged[All_Merged['Market Cap'] >= Size_Breakpoint]\n",
    "    Small = All_Merged[All_Merged['Market Cap'] <= Size_Breakpoint]\n",
    "    Large_Winners = Large[Large['Past 1'] <= Winners_Threshold]\n",
    "    Large_Losers = Large[Large['Past 1'] >= Losers_Threshold]\n",
    "    Small_Winners = Small[Small['Past 1'] <= Winners_Threshold]\n",
    "    Small_Losers = Small[Small['Past 1'] >= Losers_Threshold]\n",
    "    Large_Winners_RET = sum(Large_Winners.iloc[:,0] * (Large_Winners.iloc[:,2]/sum(Large_Winners.iloc[:,2])))\n",
    "    Large_Losers_RET = sum(Large_Losers.iloc[:,0] * (Large_Losers.iloc[:,2]/sum(Large_Losers.iloc[:,2])))\n",
    "    Small_Winners_RET = sum(Small_Winners.iloc[:,0] * (Small_Winners.iloc[:,2]/sum(Small_Winners.iloc[:,2])))\n",
    "    Small_Losers_RET = sum(Small_Losers.iloc[:,0] * (Small_Losers.iloc[:,2]/sum(Small_Losers.iloc[:,2])))\n",
    "    Portfolio_Return = ((Large_Winners_RET + Small_Winners_RET) - (Large_Losers_RET + Small_Losers_RET))/2\n",
    "    return Portfolio_Return\n",
    "\n",
    "STR = pd.DataFrame(data={'Short-Term Reversal':[STRF(i) for i in tqdm(formation_dates)]},index=returns_dates)"
   ]
  },
  {
   "cell_type": "code",
   "execution_count": 6,
   "metadata": {},
   "outputs": [
    {
     "data": {
      "application/vnd.jupyter.widget-view+json": {
       "model_id": "d8947d785b7d408aab115554c32f67f2",
       "version_major": 2,
       "version_minor": 0
      },
      "text/plain": [
       "  0%|          | 0/624 [00:00<?, ?it/s]"
      ]
     },
     "metadata": {},
     "output_type": "display_data"
    }
   ],
   "source": [
    "def ST_Residual_Reversal_PCA(formation):\n",
    "    NYSE_Size = NYSE_Size_df.loc[formation].dropna()\n",
    "    Returns_Check_NYSE = Returns_Check_NYSE_df.loc[formation + MonthEnd(1)].dropna()\n",
    "    NYSE_Two_Year = NYSE_Two_Year_Data_Check.loc[formation].dropna()\n",
    "    NYSE_Merged = pd.concat([Returns_Check_NYSE,NYSE_Size,NYSE_Two_Year],axis=1).dropna()\n",
    "    NYSE_Merged.columns = ['1 Month Forward Return','Market Cap','Two Year Check']\n",
    "    Size_Breakpoint = NYSE_Merged['Market Cap'].median()\n",
    "    All_Size = monthly_size.loc[formation].dropna()\n",
    "    All_Returns = monthly_returns.loc[formation + MonthEnd(1)].dropna()\n",
    "    All_Two_Year = Two_Year_Data_Check.loc[formation].dropna()\n",
    "    All_Merged = pd.concat([All_Returns,All_Size,All_Two_Year],axis=1).dropna()\n",
    "    All_Merged.columns = ['1 Month Forward Return','Market Cap','Two Year Check']\n",
    "    df = monthly_returns[monthly_returns.columns.intersection(All_Merged.index)][formation - MonthEnd(23):formation].fillna(0)\n",
    "    APM = mf.Equal_Vol(pd.DataFrame(PCA(5).fit_transform(df)),0.15)\n",
    "    x = sm.add_constant(APM)\n",
    "    resids = mf.residuals(df,x)\n",
    "    Past_Residual_1 = resids.loc[formation]\n",
    "    NYSE_Merged = NYSE_Merged.merge(Past_Residual_1,left_index=True,right_index=True,how='inner').dropna()\n",
    "    NYSE_Merged.rename(columns={NYSE_Merged.columns[3]:'Residual Past 1 Month'},inplace=True)\n",
    "    Long_Threshold = NYSE_Merged['Residual Past 1 Month'].quantile(0.3)\n",
    "    Short_Threshold = NYSE_Merged['Residual Past 1 Month'].quantile(0.7)\n",
    "    All_Merged = All_Merged.merge(Past_Residual_1,left_index=True,right_index=True,how='inner').dropna()\n",
    "    All_Merged.rename(columns={All_Merged.columns[3]:'Residual Past 1 Month'},inplace=True)\n",
    "    Large = All_Merged[All_Merged['Market Cap'] >= Size_Breakpoint]\n",
    "    Small = All_Merged[All_Merged['Market Cap'] <= Size_Breakpoint]\n",
    "    Large_Long = Large[Large['Residual Past 1 Month'] <= Long_Threshold]\n",
    "    Large_Short = Large[Large['Residual Past 1 Month'] >= Short_Threshold]\n",
    "    Small_Long = Small[Small['Residual Past 1 Month'] <= Long_Threshold]\n",
    "    Small_Short = Small[Small['Residual Past 1 Month'] >= Short_Threshold]\n",
    "    for i in Large_Long,Small_Long,Large_Short,Small_Short:\n",
    "        i['Weight'] = i['Market Cap']/sum(i['Market Cap'])\n",
    "    Large_Long_RET = sum(Large_Long['1 Month Forward Return'] * Large_Long['Weight'])\n",
    "    Large_Short_RET = sum(Large_Short['1 Month Forward Return'] * Large_Short['Weight'])\n",
    "    Small_Long_RET = sum(Small_Long['1 Month Forward Return'] * Small_Long['Weight'])\n",
    "    Small_Short_RET = sum(Small_Short['1 Month Forward Return'] * Small_Short['Weight'])\n",
    "    Portfolio_Return = ((Large_Long_RET + Small_Long_RET) - (Large_Short_RET + Small_Short_RET))/2\n",
    "    return Portfolio_Return\n",
    "\n",
    "Res_STREV_PCA = pd.DataFrame(data={'Residual Short-Term Reversal PCA':[ST_Residual_Reversal_PCA(i) for i in tqdm(formation_dates)]},index=returns_dates)"
   ]
  },
  {
   "cell_type": "markdown",
   "metadata": {},
   "source": [
    "# Momentum"
   ]
  },
  {
   "cell_type": "code",
   "execution_count": 7,
   "metadata": {},
   "outputs": [
    {
     "data": {
      "application/vnd.jupyter.widget-view+json": {
       "model_id": "ffba52a2970a48c99a14b50df4ffcde3",
       "version_major": 2,
       "version_minor": 0
      },
      "text/plain": [
       "  0%|          | 0/624 [00:00<?, ?it/s]"
      ]
     },
     "metadata": {},
     "output_type": "display_data"
    }
   ],
   "source": [
    "def WMLF(formation):\n",
    "    NYSE_Size = NYSE_Size_df.loc[formation].dropna()\n",
    "    NYSE_Past_11 = NYSE_Past_11_df.loc[formation - MonthEnd(1)].dropna()\n",
    "    Returns_Check_NYSE = Returns_Check_NYSE_df.loc[formation + MonthEnd(1)].dropna()\n",
    "    NYSE_Merged = pd.concat([Returns_Check_NYSE,NYSE_Past_11,NYSE_Size],axis=1).dropna()\n",
    "    NYSE_Merged.columns = ['2 Month Forward Return','Past 11','Market Cap']\n",
    "    Winners_Threshold = NYSE_Merged['Past 11'].quantile(0.7)\n",
    "    Losers_Threshold = NYSE_Merged['Past 11'].quantile(0.3)\n",
    "    Size_Breakpoint = NYSE_Merged['Market Cap'].median()\n",
    "    All_Size = monthly_size.loc[formation].dropna()\n",
    "    All_Past_11 = past_11.loc[formation - MonthEnd(1)].dropna()\n",
    "    All_Returns = monthly_returns.loc[formation + MonthEnd(1)].dropna()\n",
    "    All_Merged = pd.concat([All_Returns,All_Past_11,All_Size],axis=1).dropna()\n",
    "    All_Merged.columns = ['2 Month Forward Return','Past 11','Market Cap']\n",
    "    Large = All_Merged[All_Merged['Market Cap'] >= Size_Breakpoint]\n",
    "    Small = All_Merged[All_Merged['Market Cap'] <= Size_Breakpoint]\n",
    "    Large_Winners = Large[Large['Past 11'] >= Winners_Threshold]\n",
    "    Large_Losers = Large[Large['Past 11'] <= Losers_Threshold]\n",
    "    Small_Winners = Small[Small['Past 11'] >= Winners_Threshold]\n",
    "    Small_Losers = Small[Small['Past 11'] <= Losers_Threshold]\n",
    "    Large_Winners_RET = sum(Large_Winners.iloc[:,0] * (Large_Winners.iloc[:,2]/sum(Large_Winners.iloc[:,2])))\n",
    "    Large_Losers_RET = sum(Large_Losers.iloc[:,0] * (Large_Losers.iloc[:,2]/sum(Large_Losers.iloc[:,2])))\n",
    "    Small_Winners_RET = sum(Small_Winners.iloc[:,0] * (Small_Winners.iloc[:,2]/sum(Small_Winners.iloc[:,2])))\n",
    "    Small_Losers_RET = sum(Small_Losers.iloc[:,0] * (Small_Losers.iloc[:,2]/sum(Small_Losers.iloc[:,2])))\n",
    "    Portfolio_Return = ((Large_Winners_RET + Small_Winners_RET) - (Large_Losers_RET + Small_Losers_RET))/2\n",
    "    return Portfolio_Return\n",
    "\n",
    "WML = pd.DataFrame(data={'Momentum':[WMLF(i) for i in tqdm(formation_dates)]},index=returns_dates)"
   ]
  },
  {
   "cell_type": "code",
   "execution_count": 8,
   "metadata": {},
   "outputs": [
    {
     "data": {
      "application/vnd.jupyter.widget-view+json": {
       "model_id": "50c0964882da47b58c592d93fbb94fb5",
       "version_major": 2,
       "version_minor": 0
      },
      "text/plain": [
       "  0%|          | 0/624 [00:00<?, ?it/s]"
      ]
     },
     "metadata": {},
     "output_type": "display_data"
    }
   ],
   "source": [
    "def Residual_Momentum_PCA(formation):\n",
    "    NYSE_Size = NYSE_Size_df.loc[formation].dropna()\n",
    "    Returns_Check_NYSE = Returns_Check_NYSE_df.loc[formation + MonthEnd(1)].dropna()\n",
    "    NYSE_Two_Year = NYSE_Two_Year_Data_Check.loc[formation].dropna()\n",
    "    NYSE_Merged = pd.concat([Returns_Check_NYSE,NYSE_Size,NYSE_Two_Year],axis=1).dropna()\n",
    "    NYSE_Merged.columns = ['1 Month Forward Return','Market Cap','Two Year Check']\n",
    "    Size_Breakpoint = NYSE_Merged['Market Cap'].median()\n",
    "    All_Size = monthly_size.loc[formation].dropna()\n",
    "    All_Returns = monthly_returns.loc[formation + MonthEnd(1)].dropna()\n",
    "    All_Two_Year = Two_Year_Data_Check.loc[formation].dropna()\n",
    "    All_Merged = pd.concat([All_Returns,All_Size,All_Two_Year],axis=1).dropna()\n",
    "    All_Merged.columns = ['1 Month Forward Return','Market Cap','Two Year Check']\n",
    "    df = monthly_returns[monthly_returns.columns.intersection(All_Merged.index)][formation - MonthEnd(23):formation].fillna(0)\n",
    "    APM = mf.Equal_Vol(pd.DataFrame(PCA(5).fit_transform(df)),0.15)\n",
    "    x = sm.add_constant(APM)\n",
    "    resids = mf.residuals(df,x)\n",
    "    Past_Residual_11 = mf.past_x(resids[-12:],11).loc[formation - MonthEnd(1)]\n",
    "    NYSE_Merged = NYSE_Merged.merge(Past_Residual_11,left_index=True,right_index=True,how='inner').dropna()\n",
    "    NYSE_Merged.rename(columns={NYSE_Merged.columns[3]:'Residual Past 11 Month'},inplace=True)\n",
    "    Long_Threshold = NYSE_Merged['Residual Past 11 Month'].quantile(0.7)\n",
    "    Short_Threshold = NYSE_Merged['Residual Past 11 Month'].quantile(0.3)\n",
    "    All_Merged = All_Merged.merge(Past_Residual_11,left_index=True,right_index=True,how='inner').dropna()\n",
    "    All_Merged.rename(columns={All_Merged.columns[3]:'Residual Past 11 Month'},inplace=True)\n",
    "    Large = All_Merged[All_Merged['Market Cap'] >= Size_Breakpoint]\n",
    "    Small = All_Merged[All_Merged['Market Cap'] <= Size_Breakpoint]\n",
    "    Large_Long = Large[Large['Residual Past 11 Month'] >= Long_Threshold]\n",
    "    Large_Short = Large[Large['Residual Past 11 Month'] <= Short_Threshold]\n",
    "    Small_Long = Small[Small['Residual Past 11 Month'] >= Long_Threshold]\n",
    "    Small_Short = Small[Small['Residual Past 11 Month'] <= Short_Threshold]\n",
    "    for i in Large_Long,Small_Long,Large_Short,Small_Short:\n",
    "        i['Weight'] = i['Market Cap']/sum(i['Market Cap'])\n",
    "    Large_Long_RET = sum(Large_Long['1 Month Forward Return'] * Large_Long['Weight'])\n",
    "    Large_Short_RET = sum(Large_Short['1 Month Forward Return'] * Large_Short['Weight'])\n",
    "    Small_Long_RET = sum(Small_Long['1 Month Forward Return'] * Small_Long['Weight'])\n",
    "    Small_Short_RET = sum(Small_Short['1 Month Forward Return'] * Small_Short['Weight'])\n",
    "    Portfolio_Return = ((Large_Long_RET + Small_Long_RET) - (Large_Short_RET + Small_Short_RET))/2\n",
    "    return Portfolio_Return\n",
    "\n",
    "Res_MOM_PCA = pd.DataFrame(data={'Residual Momentum PCA':[Residual_Momentum_PCA(i) for i in tqdm(formation_dates)]},index=returns_dates)"
   ]
  },
  {
   "cell_type": "code",
   "execution_count": 9,
   "metadata": {},
   "outputs": [
    {
     "data": {
      "text/html": [
       "<div>\n",
       "<style scoped>\n",
       "    .dataframe tbody tr th:only-of-type {\n",
       "        vertical-align: middle;\n",
       "    }\n",
       "\n",
       "    .dataframe tbody tr th {\n",
       "        vertical-align: top;\n",
       "    }\n",
       "\n",
       "    .dataframe thead th {\n",
       "        text-align: right;\n",
       "    }\n",
       "</style>\n",
       "<table border=\"1\" class=\"dataframe\">\n",
       "  <thead>\n",
       "    <tr style=\"text-align: right;\">\n",
       "      <th></th>\n",
       "      <th>Long-Term Reversal</th>\n",
       "      <th>Residual Long-Term Reversal PCA</th>\n",
       "    </tr>\n",
       "  </thead>\n",
       "  <tbody>\n",
       "    <tr>\n",
       "      <th>Annual Return</th>\n",
       "      <td>2.1800</td>\n",
       "      <td>4.4500</td>\n",
       "    </tr>\n",
       "    <tr>\n",
       "      <th>Annual Volity</th>\n",
       "      <td>9.0100</td>\n",
       "      <td>8.7700</td>\n",
       "    </tr>\n",
       "    <tr>\n",
       "      <th>Sharpe Ratio</th>\n",
       "      <td>0.2400</td>\n",
       "      <td>0.5100</td>\n",
       "    </tr>\n",
       "    <tr>\n",
       "      <th>Max Drawdown</th>\n",
       "      <td>-51.1100</td>\n",
       "      <td>-28.1000</td>\n",
       "    </tr>\n",
       "    <tr>\n",
       "      <th>Portfolio Beta</th>\n",
       "      <td>0.0100</td>\n",
       "      <td>0.1600</td>\n",
       "    </tr>\n",
       "  </tbody>\n",
       "</table>\n",
       "</div>"
      ],
      "text/plain": [
       "                Long-Term Reversal  Residual Long-Term Reversal PCA\n",
       "Annual Return               2.1800                           4.4500\n",
       "Annual Volity               9.0100                           8.7700\n",
       "Sharpe Ratio                0.2400                           0.5100\n",
       "Max Drawdown              -51.1100                         -28.1000\n",
       "Portfolio Beta              0.0100                           0.1600"
      ]
     },
     "execution_count": 9,
     "metadata": {},
     "output_type": "execute_result"
    }
   ],
   "source": [
    "mf.summary_df(pd.concat([LTR,Res_LTREV_PCA],axis=1).dropna())"
   ]
  },
  {
   "cell_type": "code",
   "execution_count": 10,
   "metadata": {},
   "outputs": [
    {
     "data": {
      "text/html": [
       "<div>\n",
       "<style scoped>\n",
       "    .dataframe tbody tr th:only-of-type {\n",
       "        vertical-align: middle;\n",
       "    }\n",
       "\n",
       "    .dataframe tbody tr th {\n",
       "        vertical-align: top;\n",
       "    }\n",
       "\n",
       "    .dataframe thead th {\n",
       "        text-align: right;\n",
       "    }\n",
       "</style>\n",
       "<table border=\"1\" class=\"dataframe\">\n",
       "  <thead>\n",
       "    <tr style=\"text-align: right;\">\n",
       "      <th></th>\n",
       "      <th>Short-Term Reversal</th>\n",
       "      <th>Residual Short-Term Reversal PCA</th>\n",
       "    </tr>\n",
       "  </thead>\n",
       "  <tbody>\n",
       "    <tr>\n",
       "      <th>Annual Return</th>\n",
       "      <td>5.0800</td>\n",
       "      <td>8.0200</td>\n",
       "    </tr>\n",
       "    <tr>\n",
       "      <th>Annual Volity</th>\n",
       "      <td>11.1600</td>\n",
       "      <td>6.7300</td>\n",
       "    </tr>\n",
       "    <tr>\n",
       "      <th>Sharpe Ratio</th>\n",
       "      <td>0.4600</td>\n",
       "      <td>1.1900</td>\n",
       "    </tr>\n",
       "    <tr>\n",
       "      <th>Max Drawdown</th>\n",
       "      <td>-32.9100</td>\n",
       "      <td>-13.1800</td>\n",
       "    </tr>\n",
       "    <tr>\n",
       "      <th>Portfolio Beta</th>\n",
       "      <td>0.2300</td>\n",
       "      <td>0.1000</td>\n",
       "    </tr>\n",
       "  </tbody>\n",
       "</table>\n",
       "</div>"
      ],
      "text/plain": [
       "                Short-Term Reversal  Residual Short-Term Reversal PCA\n",
       "Annual Return                5.0800                            8.0200\n",
       "Annual Volity               11.1600                            6.7300\n",
       "Sharpe Ratio                 0.4600                            1.1900\n",
       "Max Drawdown               -32.9100                          -13.1800\n",
       "Portfolio Beta               0.2300                            0.1000"
      ]
     },
     "execution_count": 10,
     "metadata": {},
     "output_type": "execute_result"
    }
   ],
   "source": [
    "mf.summary_df(pd.concat([STR,Res_STREV_PCA],axis=1).dropna())"
   ]
  },
  {
   "cell_type": "code",
   "execution_count": 11,
   "metadata": {},
   "outputs": [
    {
     "data": {
      "text/html": [
       "<div>\n",
       "<style scoped>\n",
       "    .dataframe tbody tr th:only-of-type {\n",
       "        vertical-align: middle;\n",
       "    }\n",
       "\n",
       "    .dataframe tbody tr th {\n",
       "        vertical-align: top;\n",
       "    }\n",
       "\n",
       "    .dataframe thead th {\n",
       "        text-align: right;\n",
       "    }\n",
       "</style>\n",
       "<table border=\"1\" class=\"dataframe\">\n",
       "  <thead>\n",
       "    <tr style=\"text-align: right;\">\n",
       "      <th></th>\n",
       "      <th>Momentum</th>\n",
       "      <th>Residual Momentum PCA</th>\n",
       "    </tr>\n",
       "  </thead>\n",
       "  <tbody>\n",
       "    <tr>\n",
       "      <th>Annual Return</th>\n",
       "      <td>9.1500</td>\n",
       "      <td>8.4700</td>\n",
       "    </tr>\n",
       "    <tr>\n",
       "      <th>Annual Volity</th>\n",
       "      <td>14.3600</td>\n",
       "      <td>6.9400</td>\n",
       "    </tr>\n",
       "    <tr>\n",
       "      <th>Sharpe Ratio</th>\n",
       "      <td>0.6400</td>\n",
       "      <td>1.2200</td>\n",
       "    </tr>\n",
       "    <tr>\n",
       "      <th>Max Drawdown</th>\n",
       "      <td>-53.3700</td>\n",
       "      <td>-22.3800</td>\n",
       "    </tr>\n",
       "    <tr>\n",
       "      <th>Portfolio Beta</th>\n",
       "      <td>-0.1600</td>\n",
       "      <td>-0.1000</td>\n",
       "    </tr>\n",
       "  </tbody>\n",
       "</table>\n",
       "</div>"
      ],
      "text/plain": [
       "                Momentum  Residual Momentum PCA\n",
       "Annual Return     9.1500                 8.4700\n",
       "Annual Volity    14.3600                 6.9400\n",
       "Sharpe Ratio      0.6400                 1.2200\n",
       "Max Drawdown    -53.3700               -22.3800\n",
       "Portfolio Beta   -0.1600                -0.1000"
      ]
     },
     "execution_count": 11,
     "metadata": {},
     "output_type": "execute_result"
    }
   ],
   "source": [
    "mf.summary_df(pd.concat([WML,Res_MOM_PCA],axis=1).dropna())"
   ]
  },
  {
   "cell_type": "code",
   "execution_count": null,
   "metadata": {},
   "outputs": [],
   "source": []
  }
 ],
 "metadata": {
  "kernelspec": {
   "display_name": "base",
   "language": "python",
   "name": "python3"
  },
  "language_info": {
   "codemirror_mode": {
    "name": "ipython",
    "version": 3
   },
   "file_extension": ".py",
   "mimetype": "text/x-python",
   "name": "python",
   "nbconvert_exporter": "python",
   "pygments_lexer": "ipython3",
   "version": "3.11.5"
  }
 },
 "nbformat": 4,
 "nbformat_minor": 2
}
